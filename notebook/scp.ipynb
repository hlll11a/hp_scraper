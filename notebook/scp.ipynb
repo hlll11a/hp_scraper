{
 "cells": [
  {
   "cell_type": "code",
   "execution_count": 1,
   "source": [
    "import requests\n",
    "from bs4 import BeautifulSoup\n",
    "import json\n",
    "import time\n",
    "import csv\n",
    "import re"
   ],
   "outputs": [],
   "metadata": {}
  },
  {
   "cell_type": "markdown",
   "source": [
    "## HPG"
   ],
   "metadata": {}
  },
  {
   "cell_type": "code",
   "execution_count": 3,
   "source": [
    "def scp_hpg(area_cd,page_num):\n",
    "    out = []\n",
    "    for i in range(page_num-1):\n",
    "        res = requests.get(f'https://www.hotpepper.jp/SA11/{area_cd}/lst/bgn{i+1}/')\n",
    "        soup = BeautifulSoup(res.text, 'html.parser')\n",
    "        page_lst = json.loads(soup.find(\"script\",type=\"application/ld+json\").contents[0])[\"itemListElement\"]\n",
    "        for page in page_lst:\n",
    "            res = requests.get(page[\"url\"])\n",
    "            soup = BeautifulSoup(res.text, 'html.parser')\n",
    "            try:\n",
    "                name = soup.find(\"title\").text.rstrip(\"＜ネット予約可＞ | ホットペッパーグルメ'\").split(\"(\")[0]\n",
    "                area = soup.find(\"title\").text.rstrip(\"＜ネット予約可＞ | ホットペッパーグルメ'\").split(\"(\")[1].split(\"/\")[0]\n",
    "                genre = soup.find(\"title\").text.rstrip(\"＜ネット予約可＞ | ホットペッパーグルメ'\").split(\"(\")[1].split(\"/\")[1].rstrip(\")\")\n",
    "                tel = soup.find(\"span\",class_=\"telNumber\").text\n",
    "            except:\n",
    "                name = \"\"\n",
    "                area = \"\"\n",
    "                genre = \"\"\n",
    "                tel = \"\"\n",
    "            out.append([name,page[\"url\"],area,genre,tel])\n",
    "            time.sleep(2)\n",
    "    return out"
   ],
   "outputs": [],
   "metadata": {}
  },
  {
   "cell_type": "code",
   "execution_count": 98,
   "source": [
    "out_ueno = scp_hpg(\"Y015\",218)\n",
    "out_hachi = scp_hpg(\"Y110\",185)\n",
    "\n",
    "out_hpg = out_ueno + out_hachi\n",
    "header = [\"名前\",\"URL\",\"エリア\",\"ジャンル\",\"電話番号\"]\n",
    "with open('hpg.csv', 'w') as f:\n",
    "    writer = csv.writer(f)\n",
    "    writer.writerow(header)\n",
    "    writer.writerows(out_hpg)"
   ],
   "outputs": [],
   "metadata": {}
  },
  {
   "cell_type": "markdown",
   "source": [
    "## HPB "
   ],
   "metadata": {}
  },
  {
   "cell_type": "code",
   "execution_count": 2,
   "source": [
    "def scp_hpb(area_cd,page_num,cat):\n",
    "    out = []\n",
    "    for i in range(page_num-1):\n",
    "        res = requests.get(f'https://beauty.hotpepper.jp/{cat}/svcSA/{area_cd}/salon/PN{i+1}.html')\n",
    "        soup = BeautifulSoup(res.text, 'html.parser')\n",
    "        url_l = [soup.find_all(\"li\",class_=\"searchListCassette\")[i].find(\"h3\",class_=\"slcHead\").a.get('href').split(\"?\")[0]+\"tel/\" for i in range(len(soup.find_all(\"li\",class_=\"searchListCassette\")))]\n",
    "        \n",
    "        for url in url_l:\n",
    "            res = requests.get(url)\n",
    "            soup = BeautifulSoup(res.text, 'html.parser')   \n",
    "            try:\n",
    "                name = soup.title.text.rstrip(\"の電話番号｜ホットペッパービューティー\")\n",
    "                tel = soup.find(\"td\",class_=\"fs16 b\").text.rstrip()\n",
    "            except:\n",
    "                name = \"\"\n",
    "                tel = \"\"\n",
    "            out.append([name,url.rstrip(\"tel/\"),tel])\n",
    "            time.sleep(2)\n",
    "    return out "
   ],
   "outputs": [],
   "metadata": {}
  },
  {
   "cell_type": "markdown",
   "source": [
    "## エステ"
   ],
   "metadata": {}
  },
  {
   "cell_type": "code",
   "execution_count": 100,
   "source": [
    "out_ueno = scp_hpb(\"macAG\",25,\"esthe\")\n",
    "out_hachi = scp_hpb(\"macAK\",25,\"esthe\")\n",
    "out_esthe = out_ueno + out_hachi\n",
    "header_esthe = [\"名前\",\"URL\",\"電話番号\"]\n",
    "with open('hpb_esthe.csv', 'w') as f:\n",
    "    writer = csv.writer(f)\n",
    "    writer.writerow(header_esthe)\n",
    "    writer.writerows(out_esthe)"
   ],
   "outputs": [],
   "metadata": {}
  },
  {
   "cell_type": "markdown",
   "source": [
    "## ネイル"
   ],
   "metadata": {}
  },
  {
   "cell_type": "code",
   "execution_count": 3,
   "source": [
    "out_nakano = scp_hpb(\"macAI\",10,\"relax\")\n",
    "out_ueno = scp_hpb(\"macAG\",31,\"relax\")\n",
    "out_relax = out_ueno + out_nakano\n",
    "header_nail = [\"名前\",\"URL\",\"電話番号\"]\n",
    "with open('hpb_relax.csv', 'w') as f:\n",
    "    writer = csv.writer(f)\n",
    "    writer.writerow(header_nail)\n",
    "    writer.writerows(out_relax)"
   ],
   "outputs": [],
   "metadata": {}
  },
  {
   "cell_type": "code",
   "execution_count": null,
   "source": [],
   "outputs": [],
   "metadata": {}
  }
 ],
 "metadata": {
  "interpreter": {
   "hash": "aee8b7b246df8f9039afb4144a1f6fd8d2ca17a180786b69acc140d282b71a49"
  },
  "kernelspec": {
   "name": "python3",
   "display_name": "Python 3.9.1 64-bit"
  },
  "language_info": {
   "codemirror_mode": {
    "name": "ipython",
    "version": 3
   },
   "file_extension": ".py",
   "mimetype": "text/x-python",
   "name": "python",
   "nbconvert_exporter": "python",
   "pygments_lexer": "ipython3",
   "version": "3.9.1"
  },
  "orig_nbformat": 4
 },
 "nbformat": 4,
 "nbformat_minor": 2
}