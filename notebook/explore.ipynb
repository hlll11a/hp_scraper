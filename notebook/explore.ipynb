{
 "cells": [
  {
   "cell_type": "code",
   "execution_count": 1,
   "source": [
    "import requests\n",
    "from bs4 import BeautifulSoup\n",
    "import json\n",
    "import time\n",
    "import csv\n",
    "import re"
   ],
   "outputs": [],
   "metadata": {}
  },
  {
   "cell_type": "code",
   "execution_count": 48,
   "source": [
    "area2cd = {}\n",
    "area_tag_lst = soup.find(\"div\",class_=\"areaSA11\").find_all('li')\n",
    "for area_tag in area_tag_lst:\n",
    "    area2cd[area_tag.text] = area_tag.contents[0].get(\"href\").split(\"/\")[2]"
   ],
   "outputs": [
    {
     "output_type": "error",
     "ename": "AttributeError",
     "evalue": "'NoneType' object has no attribute 'find_all'",
     "traceback": [
      "\u001b[0;31m---------------------------------------------------------------------------\u001b[0m",
      "\u001b[0;31mAttributeError\u001b[0m                            Traceback (most recent call last)",
      "\u001b[0;32m<ipython-input-48-b161175c9267>\u001b[0m in \u001b[0;36m<module>\u001b[0;34m\u001b[0m\n\u001b[1;32m      2\u001b[0m \u001b[0msoup\u001b[0m \u001b[0;34m=\u001b[0m \u001b[0mBeautifulSoup\u001b[0m\u001b[0;34m(\u001b[0m\u001b[0mres\u001b[0m\u001b[0;34m.\u001b[0m\u001b[0mtext\u001b[0m\u001b[0;34m,\u001b[0m \u001b[0;34m'html.parser'\u001b[0m\u001b[0;34m)\u001b[0m\u001b[0;34m\u001b[0m\u001b[0;34m\u001b[0m\u001b[0m\n\u001b[1;32m      3\u001b[0m \u001b[0marea2cd\u001b[0m \u001b[0;34m=\u001b[0m \u001b[0;34m{\u001b[0m\u001b[0;34m}\u001b[0m\u001b[0;34m\u001b[0m\u001b[0;34m\u001b[0m\u001b[0m\n\u001b[0;32m----> 4\u001b[0;31m \u001b[0marea_tag_lst\u001b[0m \u001b[0;34m=\u001b[0m \u001b[0msoup\u001b[0m\u001b[0;34m.\u001b[0m\u001b[0mfind\u001b[0m\u001b[0;34m(\u001b[0m\u001b[0;34m\"div\"\u001b[0m\u001b[0;34m,\u001b[0m\u001b[0mclass_\u001b[0m\u001b[0;34m=\u001b[0m\u001b[0;34m\"areaSA11\"\u001b[0m\u001b[0;34m)\u001b[0m\u001b[0;34m.\u001b[0m\u001b[0mfind_all\u001b[0m\u001b[0;34m(\u001b[0m\u001b[0;34m'li'\u001b[0m\u001b[0;34m)\u001b[0m\u001b[0;34m\u001b[0m\u001b[0;34m\u001b[0m\u001b[0m\n\u001b[0m\u001b[1;32m      5\u001b[0m \u001b[0;32mfor\u001b[0m \u001b[0marea_tag\u001b[0m \u001b[0;32min\u001b[0m \u001b[0marea_tag_lst\u001b[0m\u001b[0;34m:\u001b[0m\u001b[0;34m\u001b[0m\u001b[0;34m\u001b[0m\u001b[0m\n\u001b[1;32m      6\u001b[0m     \u001b[0marea2cd\u001b[0m\u001b[0;34m[\u001b[0m\u001b[0marea_tag\u001b[0m\u001b[0;34m.\u001b[0m\u001b[0mtext\u001b[0m\u001b[0;34m]\u001b[0m \u001b[0;34m=\u001b[0m \u001b[0marea_tag\u001b[0m\u001b[0;34m.\u001b[0m\u001b[0mcontents\u001b[0m\u001b[0;34m[\u001b[0m\u001b[0;36m0\u001b[0m\u001b[0;34m]\u001b[0m\u001b[0;34m.\u001b[0m\u001b[0mget\u001b[0m\u001b[0;34m(\u001b[0m\u001b[0;34m\"href\"\u001b[0m\u001b[0;34m)\u001b[0m\u001b[0;34m.\u001b[0m\u001b[0msplit\u001b[0m\u001b[0;34m(\u001b[0m\u001b[0;34m\"/\"\u001b[0m\u001b[0;34m)\u001b[0m\u001b[0;34m[\u001b[0m\u001b[0;36m2\u001b[0m\u001b[0;34m]\u001b[0m\u001b[0;34m\u001b[0m\u001b[0;34m\u001b[0m\u001b[0m\n",
      "\u001b[0;31mAttributeError\u001b[0m: 'NoneType' object has no attribute 'find_all'"
     ]
    }
   ],
   "metadata": {}
  },
  {
   "cell_type": "code",
   "execution_count": 10,
   "source": [
    "res = requests.get(f'https://beauty.hotpepper.jp/svcSA/')\n",
    "soup = BeautifulSoup(res.text, 'html.parser')"
   ],
   "outputs": [],
   "metadata": {}
  },
  {
   "cell_type": "code",
   "execution_count": 26,
   "source": [
    "area2cd = {}\n",
    "for el in soup.find_all(\"ul\",class_=\"routeMa\"):\n",
    "    for e in el.find_all(\"li\"):\n",
    "        area2cd[e.contents[0].text] = e.contents[0].get(\"href\").split(\"/\")[-2]"
   ],
   "outputs": [],
   "metadata": {}
  },
  {
   "cell_type": "code",
   "execution_count": 29,
   "source": [
    "area2cd"
   ],
   "outputs": [
    {
     "output_type": "execute_result",
     "data": {
      "text/plain": [
       "{'渋谷': 'macAD',\n",
       " '青山・表参道原宿': 'macJR',\n",
       " '恵比寿・広尾六本木・麻布赤坂': 'macAC',\n",
       " '代官山・中目黒自由が丘武蔵小杉・学大': 'macAE',\n",
       " '新宿・高田馬場代々木': 'macAA',\n",
       " '池袋・目白': 'macAB',\n",
       " '銀座・有楽町新橋・丸の内日本橋': 'macAF',\n",
       " '上野・神田北千住・亀有青砥・町屋': 'macAZ',\n",
       " '両国・錦糸町小岩・森下瑞江': 'macJC',\n",
       " '門前仲町勝どき月島・豊洲': 'macJQ',\n",
       " '御茶ノ水四ツ谷・千駄木茗荷谷': 'macJA',\n",
       " '赤羽・板橋王子・巣鴨': 'macJB',\n",
       " '品川・五反田目黒・田町': 'macAH',\n",
       " '下北沢・成城学園・向ヶ丘遊園新百合ヶ丘': 'macAX',\n",
       " '町田・相模大野海老名・本厚木橋本': 'macAT',\n",
       " '横浜関内・元町上大岡・白楽': 'macAP',\n",
       " '横須賀小田原': 'macAR',\n",
       " 'センター南二俣川・戸塚杉田・金沢文庫': 'macJM',\n",
       " '湘南鎌倉・逗子': 'macJJ',\n",
       " '三軒茶屋二子玉川溝の口・青葉台': 'macAY',\n",
       " '大井町・蒲田大森・川崎鶴見': 'macAQ',\n",
       " '中野・高円寺阿佐ヶ谷': 'macAI',\n",
       " '吉祥寺・荻窪三鷹・国分寺久我山': 'macAJ',\n",
       " '八王子・立川国立・多摩・日野福生・秋川': 'macAK',\n",
       " '明大前千歳烏山・調布府中': 'macAW',\n",
       " '鷺ノ宮・田無東村山・拝島': 'macAV',\n",
       " '山梨': 'macJO',\n",
       " '大宮・浦和川口・岩槻': 'macAL',\n",
       " '大山・成増志木・川越東松山': 'macAU',\n",
       " '練馬・ひばりヶ丘・所沢飯能・狭山': 'macAS',\n",
       " '西新井・草加越谷・春日部久喜': 'macJD',\n",
       " '上尾・熊谷本庄': 'macJF',\n",
       " '東大宮古河・小山': 'macJS',\n",
       " '流山・三郷野田': 'macJL',\n",
       " '宇都宮・栃木': 'macJE',\n",
       " '取手・土浦つくば・鹿嶋': 'macJI',\n",
       " '前橋・高崎伊勢崎太田・群馬': 'macJN',\n",
       " '水戸ひたちなか日立・茨城': 'macJP',\n",
       " '千葉・稲毛幕張・鎌取都賀': 'macAM',\n",
       " '船橋・津田沼本八幡浦安・市川': 'macAN',\n",
       " '柏・松戸我孫子': 'macAO',\n",
       " '市原・木更津茂原・勝浦東金・銚子': 'macJG',\n",
       " '八千代・佐倉鎌ヶ谷・成田': 'macJH'}"
      ]
     },
     "metadata": {},
     "execution_count": 29
    }
   ],
   "metadata": {}
  },
  {
   "cell_type": "code",
   "execution_count": 49,
   "source": [
    "res = requests.get(f'https://beauty.hotpepper.jp/kr/slnH000409882/tel/'.rstrip(\"/tel/\"))\n",
    "soup = BeautifulSoup(res.text, 'html.parser')"
   ],
   "outputs": [],
   "metadata": {}
  },
  {
   "cell_type": "code",
   "execution_count": 54,
   "source": [
    "str([e.text for e in soup.find_all(\"li\",class_= lambda value: value and value.startswith(\"fl iS offL kr\"))])"
   ],
   "outputs": [
    {
     "output_type": "execute_result",
     "data": {
      "text/plain": [
       "\"['リフレッシュ', 'エステ', 'リラク']\""
      ]
     },
     "metadata": {},
     "execution_count": 54
    }
   ],
   "metadata": {}
  },
  {
   "cell_type": "code",
   "execution_count": null,
   "source": [],
   "outputs": [],
   "metadata": {}
  }
 ],
 "metadata": {
  "orig_nbformat": 4,
  "language_info": {
   "name": "python",
   "version": "3.9.1",
   "mimetype": "text/x-python",
   "codemirror_mode": {
    "name": "ipython",
    "version": 3
   },
   "pygments_lexer": "ipython3",
   "nbconvert_exporter": "python",
   "file_extension": ".py"
  },
  "kernelspec": {
   "name": "python3",
   "display_name": "Python 3.9.1 64-bit"
  },
  "interpreter": {
   "hash": "aee8b7b246df8f9039afb4144a1f6fd8d2ca17a180786b69acc140d282b71a49"
  }
 },
 "nbformat": 4,
 "nbformat_minor": 2
}